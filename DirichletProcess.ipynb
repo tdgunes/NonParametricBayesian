{
 "cells": [
  {
   "cell_type": "code",
   "execution_count": 56,
   "metadata": {},
   "outputs": [
    {
     "data": {
      "text/plain": [
       "0.97075722645521867"
      ]
     },
     "execution_count": 56,
     "metadata": {},
     "output_type": "execute_result"
    }
   ],
   "source": [
    "import matplotlib.pyplot as plt\n",
    "import numpy as np\n",
    "from scipy.stats import dirichlet, beta\n",
    "# prior\n",
    "a, b = 10, 2\n",
    "\n",
    "fig, ax = plt.subplots(1, 1)\n",
    "\n",
    "# data\n",
    "x = np.linspace(0, 1.0, 1000)\n",
    "distribution = beta(a, b)\n",
    "ax.plot(x, distribution.pdf(x), 'k-', lw=2, label=\"prior beta dist Beta(%s, %s)\" % (a, b) )\n",
    "\n",
    "distribution.rvs()"
   ]
  },
  {
   "cell_type": "code",
   "execution_count": null,
   "metadata": {},
   "outputs": [
    {
     "data": {
      "text/plain": [
       "0.97075722645521867"
      ]
     },
     "execution_count": 56,
     "metadata": {},
     "output_type": "execute_result"
    }
   ],
   "source": [
    "\n",
    "\n",
    "class DirichletProcess:\n",
    "    def __init__(self, base_distribution, concentration):\n",
    "        self.concentration = concentration\n",
    "        self.base_distribution = base_distribution\n",
    "        self.n = 0 # number of draws\n",
    "        self.x_s = {}\n",
    "        \n",
    "    def draw(self):\n",
    "        x_n = None\n",
    "        if self.n == 0: \n",
    "            # make a draw from base distribution\n",
    "            x_n = self.base_distribution.rvs(size=1)\n",
    "        else:\n",
    "        \n",
    "        self.record(x_n)\n",
    "        self.n += 1\n",
    "        return x_n\n",
    "    \n",
    "    def record(self, draw):\n",
    "        self.x_s\n",
    "\n",
    "samples = distribution.rvs(size=100)\n",
    "ax.hist(samples, normed=True, histtype='stepfilled', alpha=0.2, label=\"sample\")\n",
    "ax.legend(loc='best', frameon=False)\n",
    "plt.show()\n"
   ]
  },
  {
   "cell_type": "code",
   "execution_count": 45,
   "metadata": {},
   "outputs": [],
   "source": []
  },
  {
   "cell_type": "code",
   "execution_count": null,
   "metadata": {},
   "outputs": [],
   "source": []
  }
 ],
 "metadata": {
  "kernelspec": {
   "display_name": "Python 3",
   "language": "python",
   "name": "python3"
  },
  "language_info": {
   "codemirror_mode": {
    "name": "ipython",
    "version": 3
   },
   "file_extension": ".py",
   "mimetype": "text/x-python",
   "name": "python",
   "nbconvert_exporter": "python",
   "pygments_lexer": "ipython3",
   "version": "3.6.3"
  }
 },
 "nbformat": 4,
 "nbformat_minor": 2
}
